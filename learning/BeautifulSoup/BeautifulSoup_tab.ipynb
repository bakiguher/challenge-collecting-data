{
 "cells": [
  {
   "cell_type": "markdown",
   "metadata": {},
   "source": [
    "## BeautifulSoupTable into different format\n",
    "\n",
    "install bs4\n",
    "install request \n",
    "install pandas\n",
    "install sqlalchemy\n"
   ]
  },
  {
   "cell_type": "code",
   "execution_count": 1,
   "metadata": {},
   "outputs": [],
   "source": [
    "#import \n",
    "\n",
    "from bs4 import BeautifulSoup\n",
    "import requests\n",
    "import pandas as pd\n",
    "import sqlalchemy"
   ]
  },
  {
   "cell_type": "markdown",
   "metadata": {},
   "source": [
    "### HTTP Request\n",
    "\n",
    "\n"
   ]
  },
  {
   "cell_type": "code",
   "execution_count": 3,
   "metadata": {},
   "outputs": [],
   "source": [
    "# store website in variable\n",
    "\n",
    "url = \"https://www.skyscrapercenter.com/buildings\""
   ]
  },
  {
   "cell_type": "code",
   "execution_count": 4,
   "metadata": {},
   "outputs": [],
   "source": [
    "response = requests.get(url)       # to nmake request to the website"
   ]
  },
  {
   "cell_type": "code",
   "execution_count": 5,
   "metadata": {},
   "outputs": [
    {
     "data": {
      "text/plain": [
       "<Response [200]>"
      ]
     },
     "execution_count": 5,
     "metadata": {},
     "output_type": "execute_result"
    }
   ],
   "source": [
    "#status code \n",
    "\n",
    "response "
   ]
  },
  {
   "cell_type": "markdown",
   "metadata": {},
   "source": [
    "#### Create Soup object"
   ]
  },
  {
   "cell_type": "code",
   "execution_count": 8,
   "metadata": {},
   "outputs": [],
   "source": [
    "soup = BeautifulSoup(response.content, 'html.parser')\n",
    "#soup"
   ]
  },
  {
   "cell_type": "markdown",
   "metadata": {},
   "source": [
    "#### Results\n"
   ]
  },
  {
   "cell_type": "code",
   "execution_count": 9,
   "metadata": {},
   "outputs": [],
   "source": [
    "#starting point \n",
    "\n",
    "results = soup.find('table',{'id':'buildingsTable'}).find('tbody').find_all('tr')  # find is used for \"table\" and \"tbody\" because they are just \"one\" while find_all is used for \"tr\" because they are many"
   ]
  },
  {
   "cell_type": "code",
   "execution_count": 10,
   "metadata": {},
   "outputs": [
    {
     "data": {
      "text/plain": [
       "100"
      ]
     },
     "execution_count": 10,
     "metadata": {},
     "output_type": "execute_result"
    }
   ],
   "source": [
    "len(results)"
   ]
  },
  {
   "cell_type": "markdown",
   "metadata": {},
   "source": [
    "#### Find your Data"
   ]
  },
  {
   "cell_type": "code",
   "execution_count": 19,
   "metadata": {},
   "outputs": [
    {
     "data": {
      "text/plain": [
       "'Burj Khalifa'"
      ]
     },
     "execution_count": 19,
     "metadata": {},
     "output_type": "execute_result"
    }
   ],
   "source": [
    "# name\n",
    "results[0].find_all('td')[1].get_text().strip()"
   ]
  },
  {
   "cell_type": "code",
   "execution_count": 17,
   "metadata": {},
   "outputs": [
    {
     "data": {
      "text/plain": [
       "'Dubai'"
      ]
     },
     "execution_count": 17,
     "metadata": {},
     "output_type": "execute_result"
    }
   ],
   "source": [
    "# city\n",
    "results[0].find_all('td')[2].get_text().strip()"
   ]
  },
  {
   "cell_type": "code",
   "execution_count": 21,
   "metadata": {},
   "outputs": [
    {
     "data": {
      "text/plain": [
       "'2010'"
      ]
     },
     "execution_count": 21,
     "metadata": {},
     "output_type": "execute_result"
    }
   ],
   "source": [
    "# completion_year\n",
    "\n",
    "results[0].find_all('td')[4].get_text().strip()"
   ]
  },
  {
   "cell_type": "code",
   "execution_count": 35,
   "metadata": {},
   "outputs": [
    {
     "data": {
      "text/plain": [
       "'828 m'"
      ]
     },
     "execution_count": 35,
     "metadata": {},
     "output_type": "execute_result"
    }
   ],
   "source": [
    "# height \n",
    "\n",
    "results[0].find_all('td')[5].find_all(\"p\")[0].get_text()\n"
   ]
  },
  {
   "cell_type": "code",
   "execution_count": 23,
   "metadata": {},
   "outputs": [
    {
     "data": {
      "text/plain": [
       "'163'"
      ]
     },
     "execution_count": 23,
     "metadata": {},
     "output_type": "execute_result"
    }
   ],
   "source": [
    "# floor\n",
    "\n",
    "results[0].find_all('td')[6].get_text().strip()"
   ]
  },
  {
   "cell_type": "code",
   "execution_count": 24,
   "metadata": {},
   "outputs": [
    {
     "data": {
      "text/plain": [
       "'steel/concrete'"
      ]
     },
     "execution_count": 24,
     "metadata": {},
     "output_type": "execute_result"
    }
   ],
   "source": [
    "# material\n",
    "\n",
    "results[0].find_all('td')[7].get_text().strip()"
   ]
  },
  {
   "cell_type": "code",
   "execution_count": 36,
   "metadata": {},
   "outputs": [
    {
     "data": {
      "text/plain": [
       "'office / residential / hotel'"
      ]
     },
     "execution_count": 36,
     "metadata": {},
     "output_type": "execute_result"
    }
   ],
   "source": [
    "#functions\n",
    "\n",
    "results[0].find_all('td')[8].get_text().strip()"
   ]
  },
  {
   "cell_type": "markdown",
   "metadata": {},
   "source": [
    "#### Collection for all rows_ For loop"
   ]
  },
  {
   "cell_type": "code",
   "execution_count": 50,
   "metadata": {},
   "outputs": [],
   "source": [
    "name = []\n",
    "city = []\n",
    "completion_year = []\n",
    "height = []\n",
    "floors = []\n",
    "material = []\n",
    "function = []\n",
    "\n",
    "\n",
    "# for loop\n",
    "\n",
    "for i in results:\n",
    "\n",
    "    #name\n",
    "    name.append(i.find_all('td')[1].get_text().strip())\n",
    "\n",
    "    #city\n",
    "    city.append(i.find_all('td')[2].get_text().strip())\n",
    "\n",
    "    #completion_year\n",
    "\n",
    "    completion_year.append(i.find_all('td')[4].get_text().strip())\n",
    "\n",
    "    #height\n",
    "    height.append(i.find_all('td')[5].find_all(\"p\")[0].get_text())\n",
    "    #floors\n",
    "\n",
    "    floors.append(i.find_all('td')[6].get_text().strip())\n",
    "\n",
    "    #material\n",
    "    material.append(i.find_all('td')[7].get_text().strip())\n",
    "\n",
    "    #function\n",
    "    function.append(i.find_all('td')[8].get_text().strip())"
   ]
  },
  {
   "cell_type": "markdown",
   "metadata": {},
   "source": [
    "#### Pandas Dataframe"
   ]
  },
  {
   "cell_type": "code",
   "execution_count": 51,
   "metadata": {},
   "outputs": [
    {
     "data": {
      "text/html": [
       "<div>\n",
       "<style scoped>\n",
       "    .dataframe tbody tr th:only-of-type {\n",
       "        vertical-align: middle;\n",
       "    }\n",
       "\n",
       "    .dataframe tbody tr th {\n",
       "        vertical-align: top;\n",
       "    }\n",
       "\n",
       "    .dataframe thead th {\n",
       "        text-align: right;\n",
       "    }\n",
       "</style>\n",
       "<table border=\"1\" class=\"dataframe\">\n",
       "  <thead>\n",
       "    <tr style=\"text-align: right;\">\n",
       "      <th></th>\n",
       "      <th>name</th>\n",
       "      <th>city</th>\n",
       "      <th>completion_year</th>\n",
       "      <th>height</th>\n",
       "      <th>floors</th>\n",
       "      <th>material</th>\n",
       "      <th>function</th>\n",
       "    </tr>\n",
       "  </thead>\n",
       "  <tbody>\n",
       "    <tr>\n",
       "      <th>0</th>\n",
       "      <td>Burj Khalifa</td>\n",
       "      <td>Dubai</td>\n",
       "      <td>2010</td>\n",
       "      <td>828 m</td>\n",
       "      <td>163</td>\n",
       "      <td>steel/concrete</td>\n",
       "      <td>office / residential / hotel</td>\n",
       "    </tr>\n",
       "    <tr>\n",
       "      <th>1</th>\n",
       "      <td>Shanghai Tower</td>\n",
       "      <td>Shanghai</td>\n",
       "      <td>2015</td>\n",
       "      <td>632 m</td>\n",
       "      <td>128</td>\n",
       "      <td>composite</td>\n",
       "      <td>hotel / office</td>\n",
       "    </tr>\n",
       "    <tr>\n",
       "      <th>2</th>\n",
       "      <td>Makkah Royal Clock Tower</td>\n",
       "      <td>Mecca</td>\n",
       "      <td>2012</td>\n",
       "      <td>601 m</td>\n",
       "      <td>120</td>\n",
       "      <td>steel/concrete</td>\n",
       "      <td>hotel / residential / retail</td>\n",
       "    </tr>\n",
       "    <tr>\n",
       "      <th>3</th>\n",
       "      <td>Ping An Finance Center</td>\n",
       "      <td>Shenzhen</td>\n",
       "      <td>2017</td>\n",
       "      <td>599.1 m</td>\n",
       "      <td>115</td>\n",
       "      <td>composite</td>\n",
       "      <td>office</td>\n",
       "    </tr>\n",
       "    <tr>\n",
       "      <th>4</th>\n",
       "      <td>Lotte World Tower</td>\n",
       "      <td>Seoul</td>\n",
       "      <td>2017</td>\n",
       "      <td>554.5 m</td>\n",
       "      <td>123</td>\n",
       "      <td>composite</td>\n",
       "      <td>hotel / residential / office / retail</td>\n",
       "    </tr>\n",
       "    <tr>\n",
       "      <th>...</th>\n",
       "      <td>...</td>\n",
       "      <td>...</td>\n",
       "      <td>...</td>\n",
       "      <td>...</td>\n",
       "      <td>...</td>\n",
       "      <td>...</td>\n",
       "      <td>...</td>\n",
       "    </tr>\n",
       "    <tr>\n",
       "      <th>95</th>\n",
       "      <td>Wilshire Grand Center</td>\n",
       "      <td>Los Angeles</td>\n",
       "      <td>2017</td>\n",
       "      <td>335.3 m</td>\n",
       "      <td>62</td>\n",
       "      <td>composite</td>\n",
       "      <td>hotel / office</td>\n",
       "    </tr>\n",
       "    <tr>\n",
       "      <th>96</th>\n",
       "      <td>DAMAC Heights</td>\n",
       "      <td>Dubai</td>\n",
       "      <td>2018</td>\n",
       "      <td>335.1 m</td>\n",
       "      <td>88</td>\n",
       "      <td>concrete</td>\n",
       "      <td>residential</td>\n",
       "    </tr>\n",
       "    <tr>\n",
       "      <th>97</th>\n",
       "      <td>Twin Towers Guiyang, East Tower</td>\n",
       "      <td>Guiyang</td>\n",
       "      <td>2020</td>\n",
       "      <td>335 m</td>\n",
       "      <td>74</td>\n",
       "      <td>composite</td>\n",
       "      <td>office</td>\n",
       "    </tr>\n",
       "    <tr>\n",
       "      <th>98</th>\n",
       "      <td>Twin Towers Guiyang, West Tower</td>\n",
       "      <td>Guiyang</td>\n",
       "      <td>2020</td>\n",
       "      <td>335 m</td>\n",
       "      <td>74</td>\n",
       "      <td>composite</td>\n",
       "      <td>hotel / office</td>\n",
       "    </tr>\n",
       "    <tr>\n",
       "      <th>99</th>\n",
       "      <td>Shimao International Plaza</td>\n",
       "      <td>Shanghai</td>\n",
       "      <td>2006</td>\n",
       "      <td>333.3 m</td>\n",
       "      <td>60</td>\n",
       "      <td>concrete</td>\n",
       "      <td>hotel / office / retail</td>\n",
       "    </tr>\n",
       "  </tbody>\n",
       "</table>\n",
       "<p>100 rows × 7 columns</p>\n",
       "</div>"
      ],
      "text/plain": [
       "                              name          city completion_year    height  \\\n",
       "0                      Burj Khalifa        Dubai             2010    828 m   \n",
       "1                    Shanghai Tower     Shanghai             2015    632 m   \n",
       "2          Makkah Royal Clock Tower        Mecca             2012    601 m   \n",
       "3            Ping An Finance Center     Shenzhen             2017  599.1 m   \n",
       "4                 Lotte World Tower        Seoul             2017  554.5 m   \n",
       "..                              ...          ...              ...      ...   \n",
       "95            Wilshire Grand Center  Los Angeles             2017  335.3 m   \n",
       "96                    DAMAC Heights        Dubai             2018  335.1 m   \n",
       "97  Twin Towers Guiyang, East Tower      Guiyang             2020    335 m   \n",
       "98  Twin Towers Guiyang, West Tower      Guiyang             2020    335 m   \n",
       "99       Shimao International Plaza     Shanghai             2006  333.3 m   \n",
       "\n",
       "   floors        material                               function  \n",
       "0     163  steel/concrete           office / residential / hotel  \n",
       "1     128       composite                         hotel / office  \n",
       "2     120  steel/concrete           hotel / residential / retail  \n",
       "3     115       composite                                 office  \n",
       "4     123       composite  hotel / residential / office / retail  \n",
       "..    ...             ...                                    ...  \n",
       "95     62       composite                         hotel / office  \n",
       "96     88        concrete                            residential  \n",
       "97     74       composite                                 office  \n",
       "98     74       composite                         hotel / office  \n",
       "99     60        concrete                hotel / office / retail  \n",
       "\n",
       "[100 rows x 7 columns]"
      ]
     },
     "execution_count": 51,
     "metadata": {},
     "output_type": "execute_result"
    }
   ],
   "source": [
    "df_buildings = pd.DataFrame({\"name \": name, \"city\" : city, \"completion_year \": completion_year, \"height\" : height, \"floors\" : floors, \"material\" : material, \"function\":function}) \n",
    "df_buildings"
   ]
  },
  {
   "cell_type": "markdown",
   "metadata": {},
   "source": [
    "#### Pandas Dataframe"
   ]
  },
  {
   "cell_type": "code",
   "execution_count": 54,
   "metadata": {},
   "outputs": [],
   "source": [
    "# csv\n",
    "\n",
    "df_buildings.to_csv(\"buildings.csv\", sep=\",\", encoding=\"utf-8-sig\", index=False)"
   ]
  },
  {
   "cell_type": "code",
   "execution_count": 53,
   "metadata": {},
   "outputs": [],
   "source": [
    "#excel\n",
    "df_buildings.to_excel(\"buildings_excel.xlsx\", index=False)"
   ]
  },
  {
   "cell_type": "code",
   "execution_count": 55,
   "metadata": {},
   "outputs": [],
   "source": [
    "#json\n",
    "\n",
    "df_buildings.to_json(\"buildings.json\", orient =\"records\", lines=True, force_ascii=False)"
   ]
  },
  {
   "cell_type": "code",
   "execution_count": null,
   "metadata": {},
   "outputs": [],
   "source": [
    "#postgresql\n",
    "\n",
    "import sqlalchemy\n",
    "\n",
    "engine = sqlalchemy.create_engine('postgresql://postgres:Sunday@/1234@localhost:5433')     # because my password contain \"@\", It running to error seeing the second @\n",
    "df_buildings.to_sql('buildings', engine, index=False)\n"
   ]
  }
 ],
 "metadata": {
  "kernelspec": {
   "display_name": "Python 3.10.1 64-bit",
   "language": "python",
   "name": "python3"
  },
  "language_info": {
   "codemirror_mode": {
    "name": "ipython",
    "version": 3
   },
   "file_extension": ".py",
   "mimetype": "text/x-python",
   "name": "python",
   "nbconvert_exporter": "python",
   "pygments_lexer": "ipython3",
   "version": "3.10.1"
  },
  "orig_nbformat": 4,
  "vscode": {
   "interpreter": {
    "hash": "7d265bfdd6db05fb9a4da4b1b665b330f857f06b1f60a688e262464c44166283"
   }
  }
 },
 "nbformat": 4,
 "nbformat_minor": 2
}
