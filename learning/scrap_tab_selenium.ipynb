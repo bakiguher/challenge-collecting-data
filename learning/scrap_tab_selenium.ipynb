{
 "cells": [
  {
   "cell_type": "markdown",
   "metadata": {},
   "source": [
    "## Web Scraping Table with Python \n",
    "\n",
    "install pandas \n",
    "install selenium\n",
    "install sqlalchemy\n",
    "\n",
    "### Goal: Scrapping table with selenium into Postgrel database"
   ]
  },
  {
   "cell_type": "code",
   "execution_count": 60,
   "metadata": {},
   "outputs": [],
   "source": [
    "# import library \n",
    "from selenium import webdriver\n",
    "import pandas as pd\n",
    "from sqlalchemy \n"
   ]
  },
  {
   "cell_type": "markdown",
   "metadata": {},
   "source": [
    "#### Initialization \n"
   ]
  },
  {
   "cell_type": "code",
   "execution_count": 28,
   "metadata": {},
   "outputs": [
    {
     "name": "stderr",
     "output_type": "stream",
     "text": [
      "C:\\Users\\masud\\AppData\\Local\\Temp\\ipykernel_21548\\2314073768.py:7: DeprecationWarning: executable_path has been deprecated, please pass in a Service object\n",
      "  driver = webdriver.Chrome('C:\\webdriver\\chromedriver.exe')\n",
      "C:\\Users\\masud\\AppData\\Local\\Temp\\ipykernel_21548\\2314073768.py:16: DeprecationWarning: find_element_by_xpath is deprecated. Please use find_element(by=By.XPATH, value=xpath) instead\n",
      "  agree = driver.find_element_by_xpath('//button[@class=\" css-1hy2vtq\"]')\n",
      "C:\\Users\\masud\\AppData\\Local\\Temp\\ipykernel_21548\\2314073768.py:24: DeprecationWarning: find_element_by_xpath is deprecated. Please use find_element(by=By.XPATH, value=xpath) instead\n",
      "  save = driver.find_element_by_xpath('//button[@class=\" css-47sehv\"]')\n"
     ]
    }
   ],
   "source": [
    "#store url\n",
    "url = 'https://worldpopulationreview.com/countries'\n",
    "\n",
    "\n",
    "# initializa ChromeDriver\n",
    "\n",
    "driver = webdriver.Chrome('C:\\webdriver\\chromedriver.exe')\n",
    "\n",
    "# open url \n",
    "driver.get(url)\n",
    "\n",
    "# maximize window\n",
    "driver.maximize_window()\n",
    "\n",
    "# agree\n",
    "agree = driver.find_element_by_xpath('//button[@class=\" css-1hy2vtq\"]')\n",
    "\n",
    "try:\n",
    "    agree.click()\n",
    "except:\n",
    "    pass\n",
    "\n",
    "# save\n",
    "save = driver.find_element_by_xpath('//button[@class=\" css-47sehv\"]')\n",
    "\n",
    "try:\n",
    "    save.click()\n",
    "except:\n",
    "    pass\n"
   ]
  },
  {
   "cell_type": "markdown",
   "metadata": {},
   "source": [
    "#### Scrapping part"
   ]
  },
  {
   "cell_type": "code",
   "execution_count": null,
   "metadata": {},
   "outputs": [],
   "source": [
    "# countries\n",
    "Countries = driver.find_elements_by_xpath(\"//div[@class='datatable-container undefined']//tbody[@class='jsx-2006211681']/tr/td[2]\")\n",
    "\n",
    "\n",
    "# population 2022\n",
    "Population_2022 = driver.find_elements_by_xpath(\"//div[@class='datatable-container undefined']//tbody[@class='jsx-2006211681']/tr/td[3]\")\n",
    "\n",
    "# population 2021\n",
    "Population_2021 = driver.find_elements_by_xpath(\"//div[@class='datatable-container undefined']//tbody[@class='jsx-2006211681']/tr/td[4]\")\n",
    "\n",
    "# growth Rate\n",
    "Growth_rate = driver.find_elements_by_xpath(\"//div[@class='datatable-container undefined']//tbody[@class='jsx-2006211681']/tr/td[5]\")\n",
    "\n",
    "# Area\n",
    "Area = driver.find_elements_by_xpath(\"//div[@class='datatable-container undefined']//tbody[@class='jsx-2006211681']/tr/td[6]\")\n",
    "\n",
    "\n",
    "# Density\n",
    "Density = driver.find_elements_by_xpath(\"//div[@class='datatable-container undefined']//tbody[@class='jsx-2006211681']/tr/td[7]\")"
   ]
  },
  {
   "cell_type": "code",
   "execution_count": null,
   "metadata": {},
   "outputs": [],
   "source": [
    "for a in Density:\n",
    "    print(a.text)\n"
   ]
  },
  {
   "cell_type": "code",
   "execution_count": null,
   "metadata": {},
   "outputs": [],
   "source": [
    "# data cleaning \n",
    "Growth_rate[0].text.split('%')[0]\n",
    "\n",
    "# data cleaning \n",
    "Density[0].text.split('/')[0]"
   ]
  },
  {
   "cell_type": "markdown",
   "metadata": {},
   "source": [
    "#### Dataframe building "
   ]
  },
  {
   "cell_type": "code",
   "execution_count": 30,
   "metadata": {},
   "outputs": [],
   "source": [
    "df_population = pd.DataFrame(columns=[\"Countries\", \"Population_2022\",\"Population_2021\", \"Growth_rate_%\",\"Area\",\"Density_km2\"])"
   ]
  },
  {
   "cell_type": "code",
   "execution_count": 27,
   "metadata": {},
   "outputs": [
    {
     "data": {
      "text/html": [
       "<div>\n",
       "<style scoped>\n",
       "    .dataframe tbody tr th:only-of-type {\n",
       "        vertical-align: middle;\n",
       "    }\n",
       "\n",
       "    .dataframe tbody tr th {\n",
       "        vertical-align: top;\n",
       "    }\n",
       "\n",
       "    .dataframe thead th {\n",
       "        text-align: right;\n",
       "    }\n",
       "</style>\n",
       "<table border=\"1\" class=\"dataframe\">\n",
       "  <thead>\n",
       "    <tr style=\"text-align: right;\">\n",
       "      <th></th>\n",
       "      <th>Countries</th>\n",
       "      <th>Population_2022</th>\n",
       "      <th>Population_2021</th>\n",
       "      <th>Growth_rate_%</th>\n",
       "      <th>Area</th>\n",
       "      <th>Density_km2</th>\n",
       "    </tr>\n",
       "  </thead>\n",
       "  <tbody>\n",
       "  </tbody>\n",
       "</table>\n",
       "</div>"
      ],
      "text/plain": [
       "Empty DataFrame\n",
       "Columns: [Countries, Population_2022, Population_2021, Growth_rate_%, Area, Density_km2]\n",
       "Index: []"
      ]
     },
     "execution_count": 27,
     "metadata": {},
     "output_type": "execute_result"
    }
   ],
   "source": [
    "df_population "
   ]
  },
  {
   "cell_type": "code",
   "execution_count": null,
   "metadata": {},
   "outputs": [],
   "source": [
    "for i in range(len(Countries)):\n",
    "\n",
    "    df_population = df_population.append({\"Countries\":Countries[i].text, \"Population_2022\": Population_2022[i].text,\"Population_2021\": Population_2021[i].text,\n",
    "                                             \"Growth_rate_%\": Growth_rate[i].text.split('%')[0], \"Area\":Area[i].text, \n",
    "                                             \"Density_km2\": Density[i].text.split('/')[0]}, ignore_index = True)"
   ]
  },
  {
   "cell_type": "code",
   "execution_count": 32,
   "metadata": {},
   "outputs": [
    {
     "data": {
      "text/html": [
       "<div>\n",
       "<style scoped>\n",
       "    .dataframe tbody tr th:only-of-type {\n",
       "        vertical-align: middle;\n",
       "    }\n",
       "\n",
       "    .dataframe tbody tr th {\n",
       "        vertical-align: top;\n",
       "    }\n",
       "\n",
       "    .dataframe thead th {\n",
       "        text-align: right;\n",
       "    }\n",
       "</style>\n",
       "<table border=\"1\" class=\"dataframe\">\n",
       "  <thead>\n",
       "    <tr style=\"text-align: right;\">\n",
       "      <th></th>\n",
       "      <th>Countries</th>\n",
       "      <th>Population_2022</th>\n",
       "      <th>Population_2021</th>\n",
       "      <th>Growth_rate_%</th>\n",
       "      <th>Area</th>\n",
       "      <th>Density_km2</th>\n",
       "    </tr>\n",
       "  </thead>\n",
       "  <tbody>\n",
       "    <tr>\n",
       "      <th>0</th>\n",
       "      <td>China</td>\n",
       "      <td>1,448,471,400</td>\n",
       "      <td>1,444,216,107</td>\n",
       "      <td>0.29</td>\n",
       "      <td>9,706,961</td>\n",
       "      <td>149</td>\n",
       "    </tr>\n",
       "    <tr>\n",
       "      <th>1</th>\n",
       "      <td>India</td>\n",
       "      <td>1,406,631,776</td>\n",
       "      <td>1,393,409,038</td>\n",
       "      <td>0.95</td>\n",
       "      <td>3,287,590</td>\n",
       "      <td>428</td>\n",
       "    </tr>\n",
       "    <tr>\n",
       "      <th>2</th>\n",
       "      <td>United States</td>\n",
       "      <td>334,805,269</td>\n",
       "      <td>332,915,073</td>\n",
       "      <td>0.57</td>\n",
       "      <td>9,372,610</td>\n",
       "      <td>36</td>\n",
       "    </tr>\n",
       "    <tr>\n",
       "      <th>3</th>\n",
       "      <td>Indonesia</td>\n",
       "      <td>279,134,505</td>\n",
       "      <td>276,361,783</td>\n",
       "      <td>1.00</td>\n",
       "      <td>1,904,569</td>\n",
       "      <td>147</td>\n",
       "    </tr>\n",
       "    <tr>\n",
       "      <th>4</th>\n",
       "      <td>Pakistan</td>\n",
       "      <td>229,488,994</td>\n",
       "      <td>225,199,937</td>\n",
       "      <td>1.90</td>\n",
       "      <td>881,912</td>\n",
       "      <td>260</td>\n",
       "    </tr>\n",
       "    <tr>\n",
       "      <th>...</th>\n",
       "      <td>...</td>\n",
       "      <td>...</td>\n",
       "      <td>...</td>\n",
       "      <td>...</td>\n",
       "      <td>...</td>\n",
       "      <td>...</td>\n",
       "    </tr>\n",
       "    <tr>\n",
       "      <th>204</th>\n",
       "      <td>San Marino</td>\n",
       "      <td>34,085</td>\n",
       "      <td>34,017</td>\n",
       "      <td>0.20</td>\n",
       "      <td>61</td>\n",
       "      <td>559</td>\n",
       "    </tr>\n",
       "    <tr>\n",
       "      <th>205</th>\n",
       "      <td>Palau</td>\n",
       "      <td>18,233</td>\n",
       "      <td>18,169</td>\n",
       "      <td>0.35</td>\n",
       "      <td>459</td>\n",
       "      <td>40</td>\n",
       "    </tr>\n",
       "    <tr>\n",
       "      <th>206</th>\n",
       "      <td>Tuvalu</td>\n",
       "      <td>12,066</td>\n",
       "      <td>11,931</td>\n",
       "      <td>1.13</td>\n",
       "      <td>26</td>\n",
       "      <td>464</td>\n",
       "    </tr>\n",
       "    <tr>\n",
       "      <th>207</th>\n",
       "      <td>Nauru</td>\n",
       "      <td>10,903</td>\n",
       "      <td>10,876</td>\n",
       "      <td>0.25</td>\n",
       "      <td>21</td>\n",
       "      <td>519</td>\n",
       "    </tr>\n",
       "    <tr>\n",
       "      <th>208</th>\n",
       "      <td>Vatican City</td>\n",
       "      <td>799</td>\n",
       "      <td>800</td>\n",
       "      <td>-0.12</td>\n",
       "      <td>1</td>\n",
       "      <td>799</td>\n",
       "    </tr>\n",
       "  </tbody>\n",
       "</table>\n",
       "<p>209 rows × 6 columns</p>\n",
       "</div>"
      ],
      "text/plain": [
       "         Countries Population_2022 Population_2021 Growth_rate_%       Area  \\\n",
       "0            China   1,448,471,400   1,444,216,107          0.29  9,706,961   \n",
       "1            India   1,406,631,776   1,393,409,038          0.95  3,287,590   \n",
       "2    United States     334,805,269     332,915,073          0.57  9,372,610   \n",
       "3        Indonesia     279,134,505     276,361,783          1.00  1,904,569   \n",
       "4         Pakistan     229,488,994     225,199,937          1.90    881,912   \n",
       "..             ...             ...             ...           ...        ...   \n",
       "204     San Marino          34,085          34,017          0.20         61   \n",
       "205          Palau          18,233          18,169          0.35        459   \n",
       "206         Tuvalu          12,066          11,931          1.13         26   \n",
       "207          Nauru          10,903          10,876          0.25         21   \n",
       "208   Vatican City             799             800         -0.12          1   \n",
       "\n",
       "    Density_km2  \n",
       "0           149  \n",
       "1           428  \n",
       "2            36  \n",
       "3           147  \n",
       "4           260  \n",
       "..          ...  \n",
       "204         559  \n",
       "205          40  \n",
       "206         464  \n",
       "207         519  \n",
       "208         799  \n",
       "\n",
       "[209 rows x 6 columns]"
      ]
     },
     "execution_count": 32,
     "metadata": {},
     "output_type": "execute_result"
    }
   ],
   "source": [
    "df_population"
   ]
  },
  {
   "cell_type": "markdown",
   "metadata": {},
   "source": [
    "#### Export of the data"
   ]
  },
  {
   "cell_type": "code",
   "execution_count": 33,
   "metadata": {},
   "outputs": [],
   "source": [
    "# Into CSV\n",
    "\n",
    "df_population.to_csv('population.csv', sep=';', encoding = 'utf-8-sig', index = False)\n"
   ]
  },
  {
   "cell_type": "code",
   "execution_count": 37,
   "metadata": {},
   "outputs": [],
   "source": [
    "# Into Excel\n",
    "\n",
    "df_population.to_excel('Population_excel.xlsx', index= False)"
   ]
  },
  {
   "cell_type": "code",
   "execution_count": 39,
   "metadata": {},
   "outputs": [],
   "source": [
    "# Into Json\n",
    "\n",
    "df_population.to_json(\"population_json.json\", orient='records', lines=True, force_ascii= False)"
   ]
  },
  {
   "cell_type": "code",
   "execution_count": null,
   "metadata": {},
   "outputs": [],
   "source": [
    "# Into PostgreSql\n",
    "\n",
    "df_population.to_sql('population',conn, index=False)"
   ]
  }
 ],
 "metadata": {
  "kernelspec": {
   "display_name": "Python 3.10.1 64-bit",
   "language": "python",
   "name": "python3"
  },
  "language_info": {
   "codemirror_mode": {
    "name": "ipython",
    "version": 3
   },
   "file_extension": ".py",
   "mimetype": "text/x-python",
   "name": "python",
   "nbconvert_exporter": "python",
   "pygments_lexer": "ipython3",
   "version": "3.10.1"
  },
  "orig_nbformat": 4,
  "vscode": {
   "interpreter": {
    "hash": "7d265bfdd6db05fb9a4da4b1b665b330f857f06b1f60a688e262464c44166283"
   }
  }
 },
 "nbformat": 4,
 "nbformat_minor": 2
}
