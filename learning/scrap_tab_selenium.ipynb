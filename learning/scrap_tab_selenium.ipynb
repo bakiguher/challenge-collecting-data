{
 "cells": [
  {
   "cell_type": "markdown",
   "metadata": {},
   "source": [
    "## Web Scraping Table with Python \n",
    "\n",
    "install pandas \n",
    "install selenium\n",
    "install sqlalchemy\n",
    "\n",
    "### Goal: Scrapping table with selenium into Postgrel database"
   ]
  },
  {
   "cell_type": "code",
   "execution_count": 1,
   "metadata": {},
   "outputs": [],
   "source": [
    "# import library \n",
    "from selenium import webdriver\n",
    "import pandas as pd\n",
    "import sqlalchemy"
   ]
  },
  {
   "cell_type": "markdown",
   "metadata": {},
   "source": [
    "#### Initialization \n"
   ]
  },
  {
   "cell_type": "code",
   "execution_count": 9,
   "metadata": {},
   "outputs": [
    {
     "name": "stderr",
     "output_type": "stream",
     "text": [
      "C:\\Users\\masud\\AppData\\Local\\Temp\\ipykernel_21548\\2314073768.py:7: DeprecationWarning: executable_path has been deprecated, please pass in a Service object\n",
      "  driver = webdriver.Chrome('C:\\webdriver\\chromedriver.exe')\n",
      "C:\\Users\\masud\\AppData\\Local\\Temp\\ipykernel_21548\\2314073768.py:16: DeprecationWarning: find_element_by_xpath is deprecated. Please use find_element(by=By.XPATH, value=xpath) instead\n",
      "  agree = driver.find_element_by_xpath('//button[@class=\" css-1hy2vtq\"]')\n",
      "C:\\Users\\masud\\AppData\\Local\\Temp\\ipykernel_21548\\2314073768.py:24: DeprecationWarning: find_element_by_xpath is deprecated. Please use find_element(by=By.XPATH, value=xpath) instead\n",
      "  save = driver.find_element_by_xpath('//button[@class=\" css-47sehv\"]')\n"
     ]
    }
   ],
   "source": [
    "#store url\n",
    "url = 'https://worldpopulationreview.com/countries'\n",
    "\n",
    "\n",
    "# initializa ChromeDriver\n",
    "\n",
    "driver = webdriver.Chrome('C:\\webdriver\\chromedriver.exe')\n",
    "\n",
    "# open url \n",
    "driver.get(url)\n",
    "\n",
    "# maximize window\n",
    "driver.maximize_window()\n",
    "\n",
    "# agree\n",
    "agree = driver.find_element_by_xpath('//button[@class=\" css-1hy2vtq\"]')\n",
    "\n",
    "try:\n",
    "    agree.click()\n",
    "except:\n",
    "    pass\n",
    "\n",
    "# save\n",
    "save = driver.find_element_by_xpath('//button[@class=\" css-47sehv\"]')\n",
    "\n",
    "try:\n",
    "    save.click()\n",
    "except:\n",
    "    pass\n"
   ]
  }
 ],
 "metadata": {
  "kernelspec": {
   "display_name": "Python 3.10.1 64-bit",
   "language": "python",
   "name": "python3"
  },
  "language_info": {
   "codemirror_mode": {
    "name": "ipython",
    "version": 3
   },
   "file_extension": ".py",
   "mimetype": "text/x-python",
   "name": "python",
   "nbconvert_exporter": "python",
   "pygments_lexer": "ipython3",
   "version": "3.10.1"
  },
  "orig_nbformat": 4,
  "vscode": {
   "interpreter": {
    "hash": "7d265bfdd6db05fb9a4da4b1b665b330f857f06b1f60a688e262464c44166283"
   }
  }
 },
 "nbformat": 4,
 "nbformat_minor": 2
}
