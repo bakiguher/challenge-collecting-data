{
 "cells": [
  {
   "cell_type": "markdown",
   "metadata": {},
   "source": [
    "### API_table_Scrapping \n",
    "\n",
    "    - visit the url\n",
    "\n",
    "    - click Inspect \n",
    "\n",
    "    - click Network\n",
    "\n",
    "    - Right click on the Request\n",
    "\n",
    "    -copy as cURL\n",
    "\n",
    "    - Google any curl converter and Paste the copied cURL request\n",
    "\n"
   ]
  },
  {
   "cell_type": "markdown",
   "metadata": {},
   "source": [
    "#### Import"
   ]
  },
  {
   "cell_type": "code",
   "execution_count": 1,
   "metadata": {},
   "outputs": [],
   "source": [
    "import requests\n",
    "import pandas as pd\n",
    "import sqlalchemy"
   ]
  },
  {
   "cell_type": "markdown",
   "metadata": {},
   "source": [
    "#### Request & CURL"
   ]
  },
  {
   "cell_type": "code",
   "execution_count": 2,
   "metadata": {},
   "outputs": [],
   "source": [
    "# delete the Import request that comes with the result\n",
    "\n",
    "headers = {\n",
    "    'Accept': 'application/json, text/javascript, */*; q=0.01',\n",
    "    'Accept-Language': 'en-GB,en-US;q=0.9,en;q=0.8',\n",
    "    'Connection': 'keep-alive',\n",
    "    'Origin': 'https://ontariohockeyleague.com',\n",
    "    'Referer': 'https://ontariohockeyleague.com/',\n",
    "    'Sec-Fetch-Dest': 'empty',\n",
    "    'Sec-Fetch-Mode': 'cors',\n",
    "    'Sec-Fetch-Site': 'cross-site',\n",
    "    'User-Agent': 'Mozilla/5.0 (Windows NT 10.0; Win64; x64) AppleWebKit/537.36 (KHTML, like Gecko) Chrome/103.0.0.0 Safari/537.36',\n",
    "    'sec-ch-ua': '\".Not/A)Brand\";v=\"99\", \"Google Chrome\";v=\"103\", \"Chromium\";v=\"103\"',\n",
    "    'sec-ch-ua-mobile': '?0',\n",
    "    'sec-ch-ua-platform': '\"Windows\"',\n",
    "}\n",
    "\n",
    "params = {\n",
    "    'feed': 'modulekit',\n",
    "    'view': 'statviewtype',\n",
    "    'type': 'topscorers',\n",
    "    'key': '2976319eb44abe94',\n",
    "    'fmt': 'json',\n",
    "    'client_code': 'ohl',\n",
    "    'lang': 'en',\n",
    "    'league_code': '',\n",
    "    'season_id': '70',\n",
    "    'first': '0',\n",
    "    'limit': '100',\n",
    "    'sort': 'active',\n",
    "    'stat': 'all',\n",
    "    'order_direction': '',\n",
    "}\n",
    "\n",
    "response = requests.get('https://lscluster.hockeytech.com/feed/', params=params, headers=headers)"
   ]
  },
  {
   "cell_type": "markdown",
   "metadata": {},
   "source": [
    "#### Check Status Code"
   ]
  },
  {
   "cell_type": "code",
   "execution_count": 3,
   "metadata": {},
   "outputs": [
    {
     "data": {
      "text/plain": [
       "<Response [200]>"
      ]
     },
     "execution_count": 3,
     "metadata": {},
     "output_type": "execute_result"
    }
   ],
   "source": [
    "response"
   ]
  },
  {
   "cell_type": "markdown",
   "metadata": {},
   "source": [
    "#### Create JSON object"
   ]
  },
  {
   "cell_type": "code",
   "execution_count": 4,
   "metadata": {},
   "outputs": [],
   "source": [
    "results_json=response.json() "
   ]
  },
  {
   "cell_type": "markdown",
   "metadata": {},
   "source": [
    "#### Outputs keys"
   ]
  },
  {
   "cell_type": "code",
   "execution_count": 7,
   "metadata": {},
   "outputs": [
    {
     "data": {
      "text/plain": [
       "dict_keys(['SiteKit'])"
      ]
     },
     "execution_count": 7,
     "metadata": {},
     "output_type": "execute_result"
    }
   ],
   "source": [
    "results_json.keys() "
   ]
  },
  {
   "cell_type": "markdown",
   "metadata": {},
   "source": [
    "#### Find your data\n",
    "\n",
    "    - Name\n",
    "    - Age\n",
    "    - Height\n",
    "    - Games Played\n",
    "    - Goals\n",
    "    - Points\n",
    "    - Penalty Minutes\n",
    "    - Home Country\n"
   ]
  },
  {
   "cell_type": "code",
   "execution_count": 10,
   "metadata": {},
   "outputs": [
    {
     "data": {
      "text/plain": [
       "100"
      ]
     },
     "execution_count": 10,
     "metadata": {},
     "output_type": "execute_result"
    }
   ],
   "source": [
    "# starting point \n",
    "\n",
    "results= results_json[\"SiteKit\"][\"Statviewtype\"]       # creating a new variable, from the response save inform of json inside results_json\n",
    "                                                       #  trying tolocated where the info is stole. (check the Network)\n",
    "len(results)"
   ]
  },
  {
   "cell_type": "code",
   "execution_count": 11,
   "metadata": {},
   "outputs": [
    {
     "data": {
      "text/plain": [
       "'Wyatt Johnston'"
      ]
     },
     "execution_count": 11,
     "metadata": {},
     "output_type": "execute_result"
    }
   ],
   "source": [
    "# name\n",
    "# info for one and one name \n",
    "results[0][\"name\"]         # [0] implies Row 1  while [\"name\"] is the key you are interested in (NB: data is dictionary)"
   ]
  },
  {
   "cell_type": "code",
   "execution_count": 12,
   "metadata": {},
   "outputs": [
    {
     "data": {
      "text/plain": [
       "'19'"
      ]
     },
     "execution_count": 12,
     "metadata": {},
     "output_type": "execute_result"
    }
   ],
   "source": [
    "# Age\n",
    "results[0][\"age\"]"
   ]
  },
  {
   "cell_type": "code",
   "execution_count": 13,
   "metadata": {},
   "outputs": [
    {
     "data": {
      "text/plain": [
       "'6.02'"
      ]
     },
     "execution_count": 13,
     "metadata": {},
     "output_type": "execute_result"
    }
   ],
   "source": [
    "# height\n",
    "results[0][\"height\"]"
   ]
  },
  {
   "cell_type": "code",
   "execution_count": 14,
   "metadata": {},
   "outputs": [
    {
     "data": {
      "text/plain": [
       "'68'"
      ]
     },
     "execution_count": 14,
     "metadata": {},
     "output_type": "execute_result"
    }
   ],
   "source": [
    "# Game played\n",
    "results[0][\"games_played\"]"
   ]
  },
  {
   "cell_type": "code",
   "execution_count": 18,
   "metadata": {},
   "outputs": [
    {
     "data": {
      "text/plain": [
       "'46'"
      ]
     },
     "execution_count": 18,
     "metadata": {},
     "output_type": "execute_result"
    }
   ],
   "source": [
    "# Goals\n",
    "results[0][\"goals\"]"
   ]
  },
  {
   "cell_type": "code",
   "execution_count": 15,
   "metadata": {},
   "outputs": [
    {
     "data": {
      "text/plain": [
       "'124'"
      ]
     },
     "execution_count": 15,
     "metadata": {},
     "output_type": "execute_result"
    }
   ],
   "source": [
    "# Points\n",
    "results[0][\"points\"]"
   ]
  },
  {
   "cell_type": "code",
   "execution_count": 16,
   "metadata": {},
   "outputs": [
    {
     "data": {
      "text/plain": [
       "'26'"
      ]
     },
     "execution_count": 16,
     "metadata": {},
     "output_type": "execute_result"
    }
   ],
   "source": [
    "# Penalty Minutes\n",
    "results[0][\"penalty_minutes\"]"
   ]
  },
  {
   "cell_type": "code",
   "execution_count": 31,
   "metadata": {},
   "outputs": [
    {
     "data": {
      "text/plain": [
       "'Canada'"
      ]
     },
     "execution_count": 31,
     "metadata": {},
     "output_type": "execute_result"
    }
   ],
   "source": [
    "# Home country\n",
    "results[0][\"homecntry\"]"
   ]
  },
  {
   "cell_type": "markdown",
   "metadata": {},
   "source": [
    "#### Combine the data together_ Using For loop"
   ]
  },
  {
   "cell_type": "code",
   "execution_count": 32,
   "metadata": {},
   "outputs": [],
   "source": [
    "# Creating a list, looping over all data and finally append then to it. \n",
    "name = []\n",
    "age = []\n",
    "height = []\n",
    "games_played= []\n",
    "goals=[]\n",
    "points=[]\n",
    "penalty_minutes=[]\n",
    "home_country=[]\n",
    "\n",
    "\n",
    "# loop \n",
    "\n",
    "for i in results:\n",
    "\n",
    "    #name \n",
    "    name.append(i[\"name\"])\n",
    "\n",
    "    #age\n",
    "    age.append(i[\"age\"])\n",
    "\n",
    "    #height\n",
    "    height.append(i[\"height\"])\n",
    "\n",
    "    #games_played\n",
    "    games_played.append(i[\"games_played\"])\n",
    "\n",
    "    #goals\n",
    "    goals.append(i[\"goals\"])\n",
    "\n",
    "    #points\n",
    "    points.append(i[\"points\"])\n",
    "\n",
    "    #penalty_minutes\n",
    "    penalty_minutes.append(i[\"penalty_minutes\"])\n",
    "\n",
    "    #home_country\n",
    "    home_country.append(i[\"homecntry\"])\n",
    "\n"
   ]
  },
  {
   "cell_type": "markdown",
   "metadata": {},
   "source": [
    "#### Pandas Dataframe"
   ]
  },
  {
   "cell_type": "code",
   "execution_count": 37,
   "metadata": {},
   "outputs": [
    {
     "data": {
      "text/html": [
       "<div>\n",
       "<style scoped>\n",
       "    .dataframe tbody tr th:only-of-type {\n",
       "        vertical-align: middle;\n",
       "    }\n",
       "\n",
       "    .dataframe tbody tr th {\n",
       "        vertical-align: top;\n",
       "    }\n",
       "\n",
       "    .dataframe thead th {\n",
       "        text-align: right;\n",
       "    }\n",
       "</style>\n",
       "<table border=\"1\" class=\"dataframe\">\n",
       "  <thead>\n",
       "    <tr style=\"text-align: right;\">\n",
       "      <th></th>\n",
       "      <th>Name</th>\n",
       "      <th>Age</th>\n",
       "      <th>Height</th>\n",
       "      <th>Games_played</th>\n",
       "      <th>Goals</th>\n",
       "      <th>Points</th>\n",
       "      <th>Penalty_minutes</th>\n",
       "      <th>Home_country</th>\n",
       "    </tr>\n",
       "  </thead>\n",
       "  <tbody>\n",
       "    <tr>\n",
       "      <th>0</th>\n",
       "      <td>Wyatt Johnston</td>\n",
       "      <td>19</td>\n",
       "      <td>6.02</td>\n",
       "      <td>68</td>\n",
       "      <td>46</td>\n",
       "      <td>124</td>\n",
       "      <td>26</td>\n",
       "      <td>Canada</td>\n",
       "    </tr>\n",
       "    <tr>\n",
       "      <th>1</th>\n",
       "      <td>Rory Kerins</td>\n",
       "      <td>20</td>\n",
       "      <td>5.11</td>\n",
       "      <td>67</td>\n",
       "      <td>43</td>\n",
       "      <td>118</td>\n",
       "      <td>49</td>\n",
       "      <td>Canada</td>\n",
       "    </tr>\n",
       "    <tr>\n",
       "      <th>2</th>\n",
       "      <td>Lucas Edmonds</td>\n",
       "      <td>21</td>\n",
       "      <td>5.11</td>\n",
       "      <td>68</td>\n",
       "      <td>34</td>\n",
       "      <td>113</td>\n",
       "      <td>14</td>\n",
       "      <td>Canada</td>\n",
       "    </tr>\n",
       "    <tr>\n",
       "      <th>3</th>\n",
       "      <td>Luke Evangelista</td>\n",
       "      <td>20</td>\n",
       "      <td>6.00</td>\n",
       "      <td>62</td>\n",
       "      <td>55</td>\n",
       "      <td>111</td>\n",
       "      <td>48</td>\n",
       "      <td>Canada</td>\n",
       "    </tr>\n",
       "    <tr>\n",
       "      <th>4</th>\n",
       "      <td>Brandon Coe</td>\n",
       "      <td>20</td>\n",
       "      <td>6.05</td>\n",
       "      <td>62</td>\n",
       "      <td>34</td>\n",
       "      <td>101</td>\n",
       "      <td>40</td>\n",
       "      <td>Canada</td>\n",
       "    </tr>\n",
       "    <tr>\n",
       "      <th>...</th>\n",
       "      <td>...</td>\n",
       "      <td>...</td>\n",
       "      <td>...</td>\n",
       "      <td>...</td>\n",
       "      <td>...</td>\n",
       "      <td>...</td>\n",
       "      <td>...</td>\n",
       "      <td>...</td>\n",
       "    </tr>\n",
       "    <tr>\n",
       "      <th>95</th>\n",
       "      <td>Kocha Delic</td>\n",
       "      <td>18</td>\n",
       "      <td>5.10</td>\n",
       "      <td>65</td>\n",
       "      <td>17</td>\n",
       "      <td>46</td>\n",
       "      <td>29</td>\n",
       "      <td>Canada</td>\n",
       "    </tr>\n",
       "    <tr>\n",
       "      <th>96</th>\n",
       "      <td>Noah Sedore</td>\n",
       "      <td>20</td>\n",
       "      <td>5.09</td>\n",
       "      <td>68</td>\n",
       "      <td>17</td>\n",
       "      <td>46</td>\n",
       "      <td>32</td>\n",
       "      <td>Canada</td>\n",
       "    </tr>\n",
       "    <tr>\n",
       "      <th>97</th>\n",
       "      <td>Ryan Abraham</td>\n",
       "      <td>18</td>\n",
       "      <td>5.10</td>\n",
       "      <td>64</td>\n",
       "      <td>15</td>\n",
       "      <td>46</td>\n",
       "      <td>60</td>\n",
       "      <td>United States</td>\n",
       "    </tr>\n",
       "    <tr>\n",
       "      <th>98</th>\n",
       "      <td>Ryan O'Rourke</td>\n",
       "      <td>20</td>\n",
       "      <td>6.00</td>\n",
       "      <td>51</td>\n",
       "      <td>10</td>\n",
       "      <td>46</td>\n",
       "      <td>87</td>\n",
       "      <td>Canada</td>\n",
       "    </tr>\n",
       "    <tr>\n",
       "      <th>99</th>\n",
       "      <td>Nicholas Porco (total)</td>\n",
       "      <td>21</td>\n",
       "      <td>6.00</td>\n",
       "      <td>59</td>\n",
       "      <td>25</td>\n",
       "      <td>45</td>\n",
       "      <td>27</td>\n",
       "      <td>Canada</td>\n",
       "    </tr>\n",
       "  </tbody>\n",
       "</table>\n",
       "<p>100 rows × 8 columns</p>\n",
       "</div>"
      ],
      "text/plain": [
       "                      Name Age Height Games_played Goals Points  \\\n",
       "0           Wyatt Johnston  19   6.02           68    46    124   \n",
       "1              Rory Kerins  20   5.11           67    43    118   \n",
       "2            Lucas Edmonds  21   5.11           68    34    113   \n",
       "3         Luke Evangelista  20   6.00           62    55    111   \n",
       "4              Brandon Coe  20   6.05           62    34    101   \n",
       "..                     ...  ..    ...          ...   ...    ...   \n",
       "95             Kocha Delic  18   5.10           65    17     46   \n",
       "96             Noah Sedore  20   5.09           68    17     46   \n",
       "97            Ryan Abraham  18   5.10           64    15     46   \n",
       "98           Ryan O'Rourke  20   6.00           51    10     46   \n",
       "99  Nicholas Porco (total)  21   6.00           59    25     45   \n",
       "\n",
       "   Penalty_minutes   Home_country  \n",
       "0               26         Canada  \n",
       "1               49         Canada  \n",
       "2               14         Canada  \n",
       "3               48         Canada  \n",
       "4               40         Canada  \n",
       "..             ...            ...  \n",
       "95              29         Canada  \n",
       "96              32         Canada  \n",
       "97              60  United States  \n",
       "98              87         Canada  \n",
       "99              27         Canada  \n",
       "\n",
       "[100 rows x 8 columns]"
      ]
     },
     "execution_count": 37,
     "metadata": {},
     "output_type": "execute_result"
    }
   ],
   "source": [
    "# Nb: Your key can be any name, but the values name should correspond to usefor the list\n",
    "\n",
    "hockey_df = pd.DataFrame({\"Name\":name, \"Age\":age, \"Height\":height, \"Games_played\": games_played, \"Goals\":goals,\"Points\":points, \"Penalty_minutes\":penalty_minutes, \"Home_country\":home_country})\n",
    "\n",
    "hockey_df "
   ]
  },
  {
   "cell_type": "markdown",
   "metadata": {},
   "source": [
    "#### Output"
   ]
  },
  {
   "cell_type": "code",
   "execution_count": 38,
   "metadata": {},
   "outputs": [],
   "source": [
    "# csv\n",
    "hockey_df.to_csv(\"hockey.csv\", sep=';',encoding='utf-8-sig', index = False)"
   ]
  },
  {
   "cell_type": "code",
   "execution_count": 39,
   "metadata": {},
   "outputs": [],
   "source": [
    "#excel\n",
    "hockey_df.to_excel('hockey_excel.xlsx', index= False)"
   ]
  },
  {
   "cell_type": "code",
   "execution_count": 40,
   "metadata": {},
   "outputs": [],
   "source": [
    "# json\n",
    "hockey_df.to_json(\"hockey_json.json\", orient='records', lines=True, force_ascii= False)"
   ]
  },
  {
   "cell_type": "code",
   "execution_count": null,
   "metadata": {},
   "outputs": [],
   "source": [
    "#postgresql\n",
    "import sqlalchemy\n",
    "\n",
    "engine = sqlalchemy.create_engine('postgresql://postgres:Sunday@/1234@localhost:5433')     # because my password contain \"@\", It running to error seeing the second @\n",
    "hockey_df.to_sql('hockey', engine, index=False)\n"
   ]
  }
 ],
 "metadata": {
  "kernelspec": {
   "display_name": "Python 3.10.1 64-bit",
   "language": "python",
   "name": "python3"
  },
  "language_info": {
   "codemirror_mode": {
    "name": "ipython",
    "version": 3
   },
   "file_extension": ".py",
   "mimetype": "text/x-python",
   "name": "python",
   "nbconvert_exporter": "python",
   "pygments_lexer": "ipython3",
   "version": "3.10.1"
  },
  "orig_nbformat": 4,
  "vscode": {
   "interpreter": {
    "hash": "7d265bfdd6db05fb9a4da4b1b665b330f857f06b1f60a688e262464c44166283"
   }
  }
 },
 "nbformat": 4,
 "nbformat_minor": 2
}
