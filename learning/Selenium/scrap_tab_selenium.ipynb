{
 "cells": [
  {
   "cell_type": "markdown",
   "metadata": {},
   "source": [
    "## Web Scraping Table with Python \n",
    "\n",
    "install pandas \n",
    "install selenium\n",
    "install sqlalchemy\n",
    "\n",
    "### Goal: Scrapping table with selenium into different form of table format"
   ]
  },
  {
   "cell_type": "code",
   "execution_count": 3,
   "metadata": {},
   "outputs": [],
   "source": [
    "# import library \n",
    "from selenium import webdriver\n",
    "import pandas as pd\n",
    "import sqlalchemy \n"
   ]
  },
  {
   "cell_type": "markdown",
   "metadata": {},
   "source": [
    "#### Initialization \n"
   ]
  },
  {
   "cell_type": "code",
   "execution_count": null,
   "metadata": {},
   "outputs": [],
   "source": [
    "#store url\n",
    "url = 'https://worldpopulationreview.com/countries'                                  # The url of the site you intent to scrape from it. \n",
    "\n",
    "\n",
    "# initializa ChromeDriver\n",
    "\n",
    "driver = webdriver.Chrome('C:\\webdriver\\chromedriver.exe')                           # download chromedriver compactible with the chrone version on your laptop\n",
    "\n",
    "# open url \n",
    "driver.get(url)\n",
    "\n",
    "# maximize window\n",
    "driver.maximize_window()                                                             # function to maximize the screen\n",
    "\n",
    "# agree\n",
    "agree = driver.find_element_by_xpath('//button[@class=\" css-1hy2vtq\"]')             #  automatically accepting cookies\n",
    "\n",
    "try:\n",
    "    agree.click()\n",
    "except:\n",
    "    pass\n",
    "\n",
    "# save\n",
    "save = driver.find_element_by_xpath('//button[@class=\" css-47sehv\"]')                # for  one element to scrape; use \"find_element\"\n",
    "\n",
    "try:\n",
    "    save.click()\n",
    "except:\n",
    "    pass\n"
   ]
  },
  {
   "cell_type": "markdown",
   "metadata": {},
   "source": [
    "#### Scrapping part"
   ]
  },
  {
   "cell_type": "code",
   "execution_count": null,
   "metadata": {},
   "outputs": [],
   "source": [
    "# countries\n",
    "Countries = driver.find_elements_by_xpath(\"//div[@class='datatable-container undefined']//tbody[@class='jsx-2006211681']/tr/td[2]\")       # for more than one element to scrape; use \"find_elements\"\n",
    "\n",
    "\n",
    "# population 2022\n",
    "Population_2022 = driver.find_elements_by_xpath(\"//div[@class='datatable-container undefined']//tbody[@class='jsx-2006211681']/tr/td[3]\")\n",
    "\n",
    "# population 2021\n",
    "Population_2021 = driver.find_elements_by_xpath(\"//div[@class='datatable-container undefined']//tbody[@class='jsx-2006211681']/tr/td[4]\")\n",
    "\n",
    "# growth Rate\n",
    "Growth_rate = driver.find_elements_by_xpath(\"//div[@class='datatable-container undefined']//tbody[@class='jsx-2006211681']/tr/td[5]\")\n",
    "\n",
    "# Area\n",
    "Area = driver.find_elements_by_xpath(\"//div[@class='datatable-container undefined']//tbody[@class='jsx-2006211681']/tr/td[6]\")\n",
    "\n",
    "\n",
    "# Density\n",
    "Density = driver.find_elements_by_xpath(\"//div[@class='datatable-container undefined']//tbody[@class='jsx-2006211681']/tr/td[7]\")"
   ]
  },
  {
   "cell_type": "code",
   "execution_count": null,
   "metadata": {},
   "outputs": [],
   "source": [
    "for a in Density:\n",
    "    print(a.text)\n"
   ]
  },
  {
   "cell_type": "code",
   "execution_count": null,
   "metadata": {},
   "outputs": [],
   "source": [
    "# data cleaning \n",
    "\n",
    "#Growth rate\n",
    "Growth_rate[0].text.split('%')[0] \n",
    "\n",
    "# density\n",
    "Density[0].text.split('/')[0]"
   ]
  },
  {
   "cell_type": "markdown",
   "metadata": {},
   "source": [
    "#### Dataframe building "
   ]
  },
  {
   "cell_type": "code",
   "execution_count": 8,
   "metadata": {},
   "outputs": [],
   "source": [
    "df_population = pd.DataFrame(columns=[\"Countries\", \"Population_2022\",\"Population_2021\", \"Growth_rate_%\",\"Area\",\"Density_km2\"])   #Create the columns of the dataframe\n",
    "df_population "
   ]
  },
  {
   "cell_type": "code",
   "execution_count": null,
   "metadata": {},
   "outputs": [],
   "source": [
    "for i in range(len(Countries)):              \n",
    "\n",
    "    df_population = df_population.append({\"Countries\":Countries[i].text, \"Population_2022\": Population_2022[i].text,\"Population_2021\": Population_2021[i].text,\n",
    "                                             \"Growth_rate_%\": Growth_rate[i].text.split('%')[0], \"Area\":Area[i].text, \n",
    "                                             \"Density_km2\": Density[i].text.split('/')[0]}, ignore_index = True)"
   ]
  },
  {
   "cell_type": "code",
   "execution_count": null,
   "metadata": {},
   "outputs": [],
   "source": [
    "df_population"
   ]
  },
  {
   "cell_type": "markdown",
   "metadata": {},
   "source": [
    "#### Export of the data"
   ]
  },
  {
   "cell_type": "code",
   "execution_count": 12,
   "metadata": {},
   "outputs": [],
   "source": [
    "# Into CSV\n",
    "\n",
    "df_population.to_csv('population.csv', sep=';', encoding = 'utf-8-sig', index = False)\n"
   ]
  },
  {
   "cell_type": "code",
   "execution_count": 13,
   "metadata": {},
   "outputs": [],
   "source": [
    "# Into Excel\n",
    "\n",
    "df_population.to_excel('Population_excel.xlsx', index= False)"
   ]
  },
  {
   "cell_type": "code",
   "execution_count": 14,
   "metadata": {},
   "outputs": [],
   "source": [
    "# Into Json\n",
    "\n",
    "df_population.to_json(\"population_json.json\", orient='records', lines=True, force_ascii= False)"
   ]
  },
  {
   "cell_type": "code",
   "execution_count": null,
   "metadata": {},
   "outputs": [],
   "source": [
    "# Into PostgreSql\n",
    "\n",
    "import sqlalchemy\n",
    "\n",
    "engine = sqlalchemy.create_engine('postgresql://postgres:Sunday@/1234@localhost:5433')     # because my password contain \"@\", It running to error seeing the second @\n",
    "df_population.to_sql('population', engine, index=False)\n"
   ]
  }
 ],
 "metadata": {
  "kernelspec": {
   "display_name": "Python 3.10.1 64-bit",
   "language": "python",
   "name": "python3"
  },
  "language_info": {
   "codemirror_mode": {
    "name": "ipython",
    "version": 3
   },
   "file_extension": ".py",
   "mimetype": "text/x-python",
   "name": "python",
   "nbconvert_exporter": "python",
   "pygments_lexer": "ipython3",
   "version": "3.10.1"
  },
  "orig_nbformat": 4,
  "vscode": {
   "interpreter": {
    "hash": "7d265bfdd6db05fb9a4da4b1b665b330f857f06b1f60a688e262464c44166283"
   }
  }
 },
 "nbformat": 4,
 "nbformat_minor": 2
}
